{
  "cells": [
    {
      "metadata": {
        "trusted": true
      },
      "cell_type": "code",
      "source": "# load the data frame\n\nimport pandas as pd\nimport numpy as np\n\nLocation = \"titanic3.xlsx\"\ndf = pd.read_excel(Location)\ndf.head()",
      "execution_count": 29,
      "outputs": [
        {
          "output_type": "execute_result",
          "execution_count": 29,
          "data": {
            "text/html": "<div>\n<style scoped>\n    .dataframe tbody tr th:only-of-type {\n        vertical-align: middle;\n    }\n\n    .dataframe tbody tr th {\n        vertical-align: top;\n    }\n\n    .dataframe thead th {\n        text-align: right;\n    }\n</style>\n<table border=\"1\" class=\"dataframe\">\n  <thead>\n    <tr style=\"text-align: right;\">\n      <th></th>\n      <th>pclass</th>\n      <th>survived</th>\n      <th>name</th>\n      <th>sex</th>\n      <th>age</th>\n      <th>sibsp</th>\n      <th>parch</th>\n      <th>ticket</th>\n      <th>fare</th>\n      <th>cabin</th>\n      <th>embarked</th>\n      <th>boat</th>\n      <th>body</th>\n      <th>home.dest</th>\n    </tr>\n  </thead>\n  <tbody>\n    <tr>\n      <th>0</th>\n      <td>1</td>\n      <td>1</td>\n      <td>Allen, Miss. Elisabeth Walton</td>\n      <td>female</td>\n      <td>29.0000</td>\n      <td>0</td>\n      <td>0</td>\n      <td>24160</td>\n      <td>211.3375</td>\n      <td>B5</td>\n      <td>S</td>\n      <td>2</td>\n      <td>NaN</td>\n      <td>St Louis, MO</td>\n    </tr>\n    <tr>\n      <th>1</th>\n      <td>1</td>\n      <td>1</td>\n      <td>Allison, Master. Hudson Trevor</td>\n      <td>male</td>\n      <td>0.9167</td>\n      <td>1</td>\n      <td>2</td>\n      <td>113781</td>\n      <td>151.5500</td>\n      <td>C22 C26</td>\n      <td>S</td>\n      <td>11</td>\n      <td>NaN</td>\n      <td>Montreal, PQ / Chesterville, ON</td>\n    </tr>\n    <tr>\n      <th>2</th>\n      <td>1</td>\n      <td>0</td>\n      <td>Allison, Miss. Helen Loraine</td>\n      <td>female</td>\n      <td>2.0000</td>\n      <td>1</td>\n      <td>2</td>\n      <td>113781</td>\n      <td>151.5500</td>\n      <td>C22 C26</td>\n      <td>S</td>\n      <td>NaN</td>\n      <td>NaN</td>\n      <td>Montreal, PQ / Chesterville, ON</td>\n    </tr>\n    <tr>\n      <th>3</th>\n      <td>1</td>\n      <td>0</td>\n      <td>Allison, Mr. Hudson Joshua Creighton</td>\n      <td>male</td>\n      <td>30.0000</td>\n      <td>1</td>\n      <td>2</td>\n      <td>113781</td>\n      <td>151.5500</td>\n      <td>C22 C26</td>\n      <td>S</td>\n      <td>NaN</td>\n      <td>135.0</td>\n      <td>Montreal, PQ / Chesterville, ON</td>\n    </tr>\n    <tr>\n      <th>4</th>\n      <td>1</td>\n      <td>0</td>\n      <td>Allison, Mrs. Hudson J C (Bessie Waldo Daniels)</td>\n      <td>female</td>\n      <td>25.0000</td>\n      <td>1</td>\n      <td>2</td>\n      <td>113781</td>\n      <td>151.5500</td>\n      <td>C22 C26</td>\n      <td>S</td>\n      <td>NaN</td>\n      <td>NaN</td>\n      <td>Montreal, PQ / Chesterville, ON</td>\n    </tr>\n  </tbody>\n</table>\n</div>",
            "text/plain": "   pclass  survived                                             name     sex  \\\n0       1         1                    Allen, Miss. Elisabeth Walton  female   \n1       1         1                   Allison, Master. Hudson Trevor    male   \n2       1         0                     Allison, Miss. Helen Loraine  female   \n3       1         0             Allison, Mr. Hudson Joshua Creighton    male   \n4       1         0  Allison, Mrs. Hudson J C (Bessie Waldo Daniels)  female   \n\n       age  sibsp  parch  ticket      fare    cabin embarked boat   body  \\\n0  29.0000      0      0   24160  211.3375       B5        S    2    NaN   \n1   0.9167      1      2  113781  151.5500  C22 C26        S   11    NaN   \n2   2.0000      1      2  113781  151.5500  C22 C26        S  NaN    NaN   \n3  30.0000      1      2  113781  151.5500  C22 C26        S  NaN  135.0   \n4  25.0000      1      2  113781  151.5500  C22 C26        S  NaN    NaN   \n\n                         home.dest  \n0                     St Louis, MO  \n1  Montreal, PQ / Chesterville, ON  \n2  Montreal, PQ / Chesterville, ON  \n3  Montreal, PQ / Chesterville, ON  \n4  Montreal, PQ / Chesterville, ON  "
          },
          "metadata": {}
        }
      ]
    },
    {
      "metadata": {
        "trusted": true
      },
      "cell_type": "code",
      "source": "df.shape",
      "execution_count": 30,
      "outputs": [
        {
          "output_type": "execute_result",
          "execution_count": 30,
          "data": {
            "text/plain": "(1309, 14)"
          },
          "metadata": {}
        }
      ]
    },
    {
      "metadata": {
        "trusted": true
      },
      "cell_type": "code",
      "source": "df.dtypes",
      "execution_count": 31,
      "outputs": [
        {
          "output_type": "execute_result",
          "execution_count": 31,
          "data": {
            "text/plain": "pclass         int64\nsurvived       int64\nname          object\nsex           object\nage          float64\nsibsp          int64\nparch          int64\nticket        object\nfare         float64\ncabin         object\nembarked      object\nboat          object\nbody         float64\nhome.dest     object\ndtype: object"
          },
          "metadata": {}
        }
      ]
    },
    {
      "metadata": {
        "trusted": true
      },
      "cell_type": "code",
      "source": "# Chesk for NA's and how menay per column\ndf.isnull().sum()",
      "execution_count": 32,
      "outputs": [
        {
          "output_type": "execute_result",
          "execution_count": 32,
          "data": {
            "text/plain": "pclass          0\nsurvived        0\nname            0\nsex             0\nage           263\nsibsp           0\nparch           0\nticket          0\nfare            1\ncabin        1014\nembarked        2\nboat          823\nbody         1188\nhome.dest     564\ndtype: int64"
          },
          "metadata": {}
        }
      ]
    },
    {
      "metadata": {
        "trusted": true
      },
      "cell_type": "code",
      "source": "# How many fields are not NA in the age column\nnp.sum(df[\"age\"].isnull()==False)",
      "execution_count": 33,
      "outputs": [
        {
          "output_type": "execute_result",
          "execution_count": 33,
          "data": {
            "text/plain": "1046"
          },
          "metadata": {}
        }
      ]
    },
    {
      "metadata": {
        "trusted": true
      },
      "cell_type": "code",
      "source": "# Sort out the average age on board of titanic, by class and gender\npd.pivot_table(df, index=[\"pclass\",\"sex\"], values=\"age\", margins=True, aggfunc = np.mean)",
      "execution_count": 34,
      "outputs": [
        {
          "output_type": "execute_result",
          "execution_count": 34,
          "data": {
            "text/html": "<div>\n<style scoped>\n    .dataframe tbody tr th:only-of-type {\n        vertical-align: middle;\n    }\n\n    .dataframe tbody tr th {\n        vertical-align: top;\n    }\n\n    .dataframe thead th {\n        text-align: right;\n    }\n</style>\n<table border=\"1\" class=\"dataframe\">\n  <thead>\n    <tr style=\"text-align: right;\">\n      <th></th>\n      <th></th>\n      <th>age</th>\n    </tr>\n    <tr>\n      <th>pclass</th>\n      <th>sex</th>\n      <th></th>\n    </tr>\n  </thead>\n  <tbody>\n    <tr>\n      <th rowspan=\"2\" valign=\"top\">1</th>\n      <th>female</th>\n      <td>37.037594</td>\n    </tr>\n    <tr>\n      <th>male</th>\n      <td>41.029250</td>\n    </tr>\n    <tr>\n      <th rowspan=\"2\" valign=\"top\">2</th>\n      <th>female</th>\n      <td>27.499191</td>\n    </tr>\n    <tr>\n      <th>male</th>\n      <td>30.815401</td>\n    </tr>\n    <tr>\n      <th rowspan=\"2\" valign=\"top\">3</th>\n      <th>female</th>\n      <td>22.185307</td>\n    </tr>\n    <tr>\n      <th>male</th>\n      <td>25.962273</td>\n    </tr>\n    <tr>\n      <th>All</th>\n      <th></th>\n      <td>29.881135</td>\n    </tr>\n  </tbody>\n</table>\n</div>",
            "text/plain": "                     age\npclass sex              \n1      female  37.037594\n       male    41.029250\n2      female  27.499191\n       male    30.815401\n3      female  22.185307\n       male    25.962273\nAll            29.881135"
          },
          "metadata": {}
        }
      ]
    },
    {
      "metadata": {
        "trusted": true
      },
      "cell_type": "code",
      "source": "# Add a column for \"cildren\", for ages 13 oe less\ndf['children'] = np.where((df['age'].isnull()==False) & (df['age'] <= 13), 1, 0)\ndf.head(3)",
      "execution_count": 35,
      "outputs": [
        {
          "output_type": "execute_result",
          "execution_count": 35,
          "data": {
            "text/html": "<div>\n<style scoped>\n    .dataframe tbody tr th:only-of-type {\n        vertical-align: middle;\n    }\n\n    .dataframe tbody tr th {\n        vertical-align: top;\n    }\n\n    .dataframe thead th {\n        text-align: right;\n    }\n</style>\n<table border=\"1\" class=\"dataframe\">\n  <thead>\n    <tr style=\"text-align: right;\">\n      <th></th>\n      <th>pclass</th>\n      <th>survived</th>\n      <th>name</th>\n      <th>sex</th>\n      <th>age</th>\n      <th>sibsp</th>\n      <th>parch</th>\n      <th>ticket</th>\n      <th>fare</th>\n      <th>cabin</th>\n      <th>embarked</th>\n      <th>boat</th>\n      <th>body</th>\n      <th>home.dest</th>\n      <th>children</th>\n    </tr>\n  </thead>\n  <tbody>\n    <tr>\n      <th>0</th>\n      <td>1</td>\n      <td>1</td>\n      <td>Allen, Miss. Elisabeth Walton</td>\n      <td>female</td>\n      <td>29.0000</td>\n      <td>0</td>\n      <td>0</td>\n      <td>24160</td>\n      <td>211.3375</td>\n      <td>B5</td>\n      <td>S</td>\n      <td>2</td>\n      <td>NaN</td>\n      <td>St Louis, MO</td>\n      <td>0</td>\n    </tr>\n    <tr>\n      <th>1</th>\n      <td>1</td>\n      <td>1</td>\n      <td>Allison, Master. Hudson Trevor</td>\n      <td>male</td>\n      <td>0.9167</td>\n      <td>1</td>\n      <td>2</td>\n      <td>113781</td>\n      <td>151.5500</td>\n      <td>C22 C26</td>\n      <td>S</td>\n      <td>11</td>\n      <td>NaN</td>\n      <td>Montreal, PQ / Chesterville, ON</td>\n      <td>1</td>\n    </tr>\n    <tr>\n      <th>2</th>\n      <td>1</td>\n      <td>0</td>\n      <td>Allison, Miss. Helen Loraine</td>\n      <td>female</td>\n      <td>2.0000</td>\n      <td>1</td>\n      <td>2</td>\n      <td>113781</td>\n      <td>151.5500</td>\n      <td>C22 C26</td>\n      <td>S</td>\n      <td>NaN</td>\n      <td>NaN</td>\n      <td>Montreal, PQ / Chesterville, ON</td>\n      <td>1</td>\n    </tr>\n  </tbody>\n</table>\n</div>",
            "text/plain": "   pclass  survived                            name     sex      age  sibsp  \\\n0       1         1   Allen, Miss. Elisabeth Walton  female  29.0000      0   \n1       1         1  Allison, Master. Hudson Trevor    male   0.9167      1   \n2       1         0    Allison, Miss. Helen Loraine  female   2.0000      1   \n\n   parch  ticket      fare    cabin embarked boat  body  \\\n0      0   24160  211.3375       B5        S    2   NaN   \n1      2  113781  151.5500  C22 C26        S   11   NaN   \n2      2  113781  151.5500  C22 C26        S  NaN   NaN   \n\n                         home.dest  children  \n0                     St Louis, MO         0  \n1  Montreal, PQ / Chesterville, ON         1  \n2  Montreal, PQ / Chesterville, ON         1  "
          },
          "metadata": {}
        }
      ]
    },
    {
      "metadata": {
        "trusted": true
      },
      "cell_type": "code",
      "source": "# Count how many children, by class\npd.pivot_table(df, index=[\"pclass\"], values=\"children\", margins=True, aggfunc = np.sum)",
      "execution_count": 36,
      "outputs": [
        {
          "output_type": "execute_result",
          "execution_count": 36,
          "data": {
            "text/html": "<div>\n<style scoped>\n    .dataframe tbody tr th:only-of-type {\n        vertical-align: middle;\n    }\n\n    .dataframe tbody tr th {\n        vertical-align: top;\n    }\n\n    .dataframe thead th {\n        text-align: right;\n    }\n</style>\n<table border=\"1\" class=\"dataframe\">\n  <thead>\n    <tr style=\"text-align: right;\">\n      <th></th>\n      <th>children</th>\n    </tr>\n    <tr>\n      <th>pclass</th>\n      <th></th>\n    </tr>\n  </thead>\n  <tbody>\n    <tr>\n      <th>1</th>\n      <td>6</td>\n    </tr>\n    <tr>\n      <th>2</th>\n      <td>25</td>\n    </tr>\n    <tr>\n      <th>3</th>\n      <td>68</td>\n    </tr>\n    <tr>\n      <th>All</th>\n      <td>99</td>\n    </tr>\n  </tbody>\n</table>\n</div>",
            "text/plain": "        children\npclass          \n1              6\n2             25\n3             68\nAll           99"
          },
          "metadata": {}
        }
      ]
    },
    {
      "metadata": {
        "trusted": true
      },
      "cell_type": "code",
      "source": "# Found this cool way to make multidimentional querries on binned data\n# These numbers for the survival rate agree with what I obtained in previous titanic homework!\n\nage_bins = pd.cut(df['age'], [0, 18, 40, 80])\ndf.pivot_table('survived', ['sex', age_bins], 'pclass')",
      "execution_count": 39,
      "outputs": [
        {
          "output_type": "execute_result",
          "execution_count": 39,
          "data": {
            "text/html": "<div>\n<style scoped>\n    .dataframe tbody tr th:only-of-type {\n        vertical-align: middle;\n    }\n\n    .dataframe tbody tr th {\n        vertical-align: top;\n    }\n\n    .dataframe thead th {\n        text-align: right;\n    }\n</style>\n<table border=\"1\" class=\"dataframe\">\n  <thead>\n    <tr style=\"text-align: right;\">\n      <th></th>\n      <th>pclass</th>\n      <th>1</th>\n      <th>2</th>\n      <th>3</th>\n    </tr>\n    <tr>\n      <th>sex</th>\n      <th>age</th>\n      <th></th>\n      <th></th>\n      <th></th>\n    </tr>\n  </thead>\n  <tbody>\n    <tr>\n      <th rowspan=\"3\" valign=\"top\">female</th>\n      <th>(0, 18]</th>\n      <td>0.923077</td>\n      <td>0.952381</td>\n      <td>0.534483</td>\n    </tr>\n    <tr>\n      <th>(18, 40]</th>\n      <td>0.971429</td>\n      <td>0.893939</td>\n      <td>0.451220</td>\n    </tr>\n    <tr>\n      <th>(40, 80]</th>\n      <td>0.960000</td>\n      <td>0.812500</td>\n      <td>0.333333</td>\n    </tr>\n    <tr>\n      <th rowspan=\"3\" valign=\"top\">male</th>\n      <th>(0, 18]</th>\n      <td>0.750000</td>\n      <td>0.523810</td>\n      <td>0.208333</td>\n    </tr>\n    <tr>\n      <th>(18, 40]</th>\n      <td>0.406250</td>\n      <td>0.097087</td>\n      <td>0.174274</td>\n    </tr>\n    <tr>\n      <th>(40, 80]</th>\n      <td>0.265823</td>\n      <td>0.058824</td>\n      <td>0.055556</td>\n    </tr>\n  </tbody>\n</table>\n</div>",
            "text/plain": "pclass                  1         2         3\nsex    age                                   \nfemale (0, 18]   0.923077  0.952381  0.534483\n       (18, 40]  0.971429  0.893939  0.451220\n       (40, 80]  0.960000  0.812500  0.333333\nmale   (0, 18]   0.750000  0.523810  0.208333\n       (18, 40]  0.406250  0.097087  0.174274\n       (40, 80]  0.265823  0.058824  0.055556"
          },
          "metadata": {}
        }
      ]
    },
    {
      "metadata": {
        "trusted": true
      },
      "cell_type": "code",
      "source": "# Find the min and max ticket prices\n\nminfare=print(min(df[\"fare\"]))\nmaxfare=print(max(df[\"fare\"]))",
      "execution_count": 40,
      "outputs": [
        {
          "output_type": "stream",
          "text": "0.0\n512.3292\n",
          "name": "stdout"
        }
      ]
    },
    {
      "metadata": {
        "trusted": true
      },
      "cell_type": "code",
      "source": "# Group ticket fare in bins\n# (I did not find a way to split the \"fare\" in arbitrary bin size between min and max, \n# so I defined the bins manually)\n\nbins=[0, 50, 100, 150,200, 250, 300, 350, 400, 450, 500, 550]\n\n#Create names for ticket fare groups (ticket grades A - K)\n\ngroup_name=['A','B','C','D','E','F','G','H','I','J','K']\ndf['ticket_grade']=pd.cut(df['fare'], bins, labels=group_name)\ndf.head(3)",
      "execution_count": 41,
      "outputs": [
        {
          "output_type": "execute_result",
          "execution_count": 41,
          "data": {
            "text/html": "<div>\n<style scoped>\n    .dataframe tbody tr th:only-of-type {\n        vertical-align: middle;\n    }\n\n    .dataframe tbody tr th {\n        vertical-align: top;\n    }\n\n    .dataframe thead th {\n        text-align: right;\n    }\n</style>\n<table border=\"1\" class=\"dataframe\">\n  <thead>\n    <tr style=\"text-align: right;\">\n      <th></th>\n      <th>pclass</th>\n      <th>survived</th>\n      <th>name</th>\n      <th>sex</th>\n      <th>age</th>\n      <th>sibsp</th>\n      <th>parch</th>\n      <th>ticket</th>\n      <th>fare</th>\n      <th>cabin</th>\n      <th>embarked</th>\n      <th>boat</th>\n      <th>body</th>\n      <th>home.dest</th>\n      <th>children</th>\n      <th>ticket_grade</th>\n    </tr>\n  </thead>\n  <tbody>\n    <tr>\n      <th>0</th>\n      <td>1</td>\n      <td>1</td>\n      <td>Allen, Miss. Elisabeth Walton</td>\n      <td>female</td>\n      <td>29.0000</td>\n      <td>0</td>\n      <td>0</td>\n      <td>24160</td>\n      <td>211.3375</td>\n      <td>B5</td>\n      <td>S</td>\n      <td>2</td>\n      <td>NaN</td>\n      <td>St Louis, MO</td>\n      <td>0</td>\n      <td>E</td>\n    </tr>\n    <tr>\n      <th>1</th>\n      <td>1</td>\n      <td>1</td>\n      <td>Allison, Master. Hudson Trevor</td>\n      <td>male</td>\n      <td>0.9167</td>\n      <td>1</td>\n      <td>2</td>\n      <td>113781</td>\n      <td>151.5500</td>\n      <td>C22 C26</td>\n      <td>S</td>\n      <td>11</td>\n      <td>NaN</td>\n      <td>Montreal, PQ / Chesterville, ON</td>\n      <td>1</td>\n      <td>D</td>\n    </tr>\n    <tr>\n      <th>2</th>\n      <td>1</td>\n      <td>0</td>\n      <td>Allison, Miss. Helen Loraine</td>\n      <td>female</td>\n      <td>2.0000</td>\n      <td>1</td>\n      <td>2</td>\n      <td>113781</td>\n      <td>151.5500</td>\n      <td>C22 C26</td>\n      <td>S</td>\n      <td>NaN</td>\n      <td>NaN</td>\n      <td>Montreal, PQ / Chesterville, ON</td>\n      <td>1</td>\n      <td>D</td>\n    </tr>\n  </tbody>\n</table>\n</div>",
            "text/plain": "   pclass  survived                            name     sex      age  sibsp  \\\n0       1         1   Allen, Miss. Elisabeth Walton  female  29.0000      0   \n1       1         1  Allison, Master. Hudson Trevor    male   0.9167      1   \n2       1         0    Allison, Miss. Helen Loraine  female   2.0000      1   \n\n   parch  ticket      fare    cabin embarked boat  body  \\\n0      0   24160  211.3375       B5        S    2   NaN   \n1      2  113781  151.5500  C22 C26        S   11   NaN   \n2      2  113781  151.5500  C22 C26        S  NaN   NaN   \n\n                         home.dest  children ticket_grade  \n0                     St Louis, MO         0            E  \n1  Montreal, PQ / Chesterville, ON         1            D  \n2  Montreal, PQ / Chesterville, ON         1            D  "
          },
          "metadata": {}
        }
      ]
    },
    {
      "metadata": {
        "trusted": true
      },
      "cell_type": "code",
      "source": "# Count number of tickets of a give grade \n\nticket_count=pd.value_counts(df['ticket_grade'])\nprint(ticket_count)",
      "execution_count": 42,
      "outputs": [
        {
          "output_type": "stream",
          "text": "A    1051\nB     156\nC      33\nE      21\nF      13\nD      13\nK       4\nJ       0\nI       0\nH       0\nG       0\nName: ticket_grade, dtype: int64\n",
          "name": "stdout"
        }
      ]
    },
    {
      "metadata": {
        "trusted": true
      },
      "cell_type": "code",
      "source": "# Find the average ticket price per ticket group/grade \n\nticket_mean_price=df.groupby('ticket_grade')['fare'].mean()\nticket_mean_price",
      "execution_count": 43,
      "outputs": [
        {
          "output_type": "execute_result",
          "execution_count": 43,
          "data": {
            "text/plain": "ticket_grade\nA     15.731140\nB     68.903981\nC    124.387491\nD    156.088792\nE    222.388295\nF    262.663462\nG           NaN\nH           NaN\nI           NaN\nJ           NaN\nK    512.329200\nName: fare, dtype: float64"
          },
          "metadata": {}
        }
      ]
    },
    {
      "metadata": {
        "trusted": true
      },
      "cell_type": "code",
      "source": "# Another way to define pivot tables. \n# Sort out how many survivors per ticket group\n# Test any relationship between number of survivors and ticket group \n\ntable = df.pivot_table(index='ticket_grade',\n                    aggfunc={'survived':sum, 'fare':'mean'})\nprint(table)",
      "execution_count": 44,
      "outputs": [
        {
          "output_type": "stream",
          "text": "                    fare  survived\nticket_grade                      \nA              15.731140       340\nB              68.903981        98\nC             124.387491        26\nD             156.088792         8\nE             222.388295        12\nF             262.663462        10\nG                    NaN         0\nH                    NaN         0\nI                    NaN         0\nJ                    NaN         0\nK             512.329200         4\n",
          "name": "stdout"
        }
      ]
    },
    {
      "metadata": {
        "trusted": true
      },
      "cell_type": "code",
      "source": "### Drop rows with missing data from the table\n\nnewtable = table.dropna()\nnewtable",
      "execution_count": 45,
      "outputs": [
        {
          "output_type": "execute_result",
          "execution_count": 45,
          "data": {
            "text/html": "<div>\n<style scoped>\n    .dataframe tbody tr th:only-of-type {\n        vertical-align: middle;\n    }\n\n    .dataframe tbody tr th {\n        vertical-align: top;\n    }\n\n    .dataframe thead th {\n        text-align: right;\n    }\n</style>\n<table border=\"1\" class=\"dataframe\">\n  <thead>\n    <tr style=\"text-align: right;\">\n      <th></th>\n      <th>fare</th>\n      <th>survived</th>\n    </tr>\n    <tr>\n      <th>ticket_grade</th>\n      <th></th>\n      <th></th>\n    </tr>\n  </thead>\n  <tbody>\n    <tr>\n      <th>A</th>\n      <td>15.731140</td>\n      <td>340</td>\n    </tr>\n    <tr>\n      <th>B</th>\n      <td>68.903981</td>\n      <td>98</td>\n    </tr>\n    <tr>\n      <th>C</th>\n      <td>124.387491</td>\n      <td>26</td>\n    </tr>\n    <tr>\n      <th>D</th>\n      <td>156.088792</td>\n      <td>8</td>\n    </tr>\n    <tr>\n      <th>E</th>\n      <td>222.388295</td>\n      <td>12</td>\n    </tr>\n    <tr>\n      <th>F</th>\n      <td>262.663462</td>\n      <td>10</td>\n    </tr>\n    <tr>\n      <th>K</th>\n      <td>512.329200</td>\n      <td>4</td>\n    </tr>\n  </tbody>\n</table>\n</div>",
            "text/plain": "                    fare  survived\nticket_grade                      \nA              15.731140       340\nB              68.903981        98\nC             124.387491        26\nD             156.088792         8\nE             222.388295        12\nF             262.663462        10\nK             512.329200         4"
          },
          "metadata": {}
        }
      ]
    },
    {
      "metadata": {
        "trusted": true
      },
      "cell_type": "code",
      "source": "# Apply regression to check for a linear relationship\n\nimport statsmodels.formula.api as sm\nresult = sm.ols(formula='survived ~ fare', data=newtable).fit()\nresult.summary()",
      "execution_count": 46,
      "outputs": [
        {
          "output_type": "stream",
          "text": "/home/nbuser/anaconda3_501/lib/python3.6/site-packages/statsmodels/stats/stattools.py:72: ValueWarning: omni_normtest is not valid with less than 8 observations; 7 samples were given.\n  \"samples were given.\" % int(n), ValueWarning)\n",
          "name": "stderr"
        },
        {
          "output_type": "execute_result",
          "execution_count": 46,
          "data": {
            "text/html": "<table class=\"simpletable\">\n<caption>OLS Regression Results</caption>\n<tr>\n  <th>Dep. Variable:</th>        <td>survived</td>     <th>  R-squared:         </th> <td>   0.366</td>\n</tr>\n<tr>\n  <th>Model:</th>                   <td>OLS</td>       <th>  Adj. R-squared:    </th> <td>   0.239</td>\n</tr>\n<tr>\n  <th>Method:</th>             <td>Least Squares</td>  <th>  F-statistic:       </th> <td>   2.882</td>\n</tr>\n<tr>\n  <th>Date:</th>             <td>Thu, 11 Oct 2018</td> <th>  Prob (F-statistic):</th>  <td> 0.150</td> \n</tr>\n<tr>\n  <th>Time:</th>                 <td>15:38:05</td>     <th>  Log-Likelihood:    </th> <td> -41.485</td>\n</tr>\n<tr>\n  <th>No. Observations:</th>      <td>     7</td>      <th>  AIC:               </th> <td>   86.97</td>\n</tr>\n<tr>\n  <th>Df Residuals:</th>          <td>     5</td>      <th>  BIC:               </th> <td>   86.86</td>\n</tr>\n<tr>\n  <th>Df Model:</th>              <td>     1</td>      <th>                     </th>     <td> </td>   \n</tr>\n<tr>\n  <th>Covariance Type:</th>      <td>nonrobust</td>    <th>                     </th>     <td> </td>   \n</tr>\n</table>\n<table class=\"simpletable\">\n<tr>\n      <td></td>         <th>coef</th>     <th>std err</th>      <th>t</th>      <th>P>|t|</th>  <th>[0.025</th>    <th>0.975]</th>  \n</tr>\n<tr>\n  <th>Intercept</th> <td>  159.6404</td> <td>   66.050</td> <td>    2.417</td> <td> 0.060</td> <td>  -10.146</td> <td>  329.427</td>\n</tr>\n<tr>\n  <th>fare</th>      <td>   -0.4547</td> <td>    0.268</td> <td>   -1.698</td> <td> 0.150</td> <td>   -1.143</td> <td>    0.234</td>\n</tr>\n</table>\n<table class=\"simpletable\">\n<tr>\n  <th>Omnibus:</th>       <td>   nan</td> <th>  Durbin-Watson:     </th> <td>   1.088</td>\n</tr>\n<tr>\n  <th>Prob(Omnibus):</th> <td>   nan</td> <th>  Jarque-Bera (JB):  </th> <td>   1.502</td>\n</tr>\n<tr>\n  <th>Skew:</th>          <td> 1.133</td> <th>  Prob(JB):          </th> <td>   0.472</td>\n</tr>\n<tr>\n  <th>Kurtosis:</th>      <td> 2.863</td> <th>  Cond. No.          </th> <td>    402.</td>\n</tr>\n</table>",
            "text/plain": "<class 'statsmodels.iolib.summary.Summary'>\n\"\"\"\n                            OLS Regression Results                            \n==============================================================================\nDep. Variable:               survived   R-squared:                       0.366\nModel:                            OLS   Adj. R-squared:                  0.239\nMethod:                 Least Squares   F-statistic:                     2.882\nDate:                Thu, 11 Oct 2018   Prob (F-statistic):              0.150\nTime:                        15:38:05   Log-Likelihood:                -41.485\nNo. Observations:                   7   AIC:                             86.97\nDf Residuals:                       5   BIC:                             86.86\nDf Model:                           1                                         \nCovariance Type:            nonrobust                                         \n==============================================================================\n                 coef    std err          t      P>|t|      [0.025      0.975]\n------------------------------------------------------------------------------\nIntercept    159.6404     66.050      2.417      0.060     -10.146     329.427\nfare          -0.4547      0.268     -1.698      0.150      -1.143       0.234\n==============================================================================\nOmnibus:                          nan   Durbin-Watson:                   1.088\nProb(Omnibus):                    nan   Jarque-Bera (JB):                1.502\nSkew:                           1.133   Prob(JB):                        0.472\nKurtosis:                       2.863   Cond. No.                         402.\n==============================================================================\n\nWarnings:\n[1] Standard Errors assume that the covariance matrix of the errors is correctly specified.\n\"\"\""
          },
          "metadata": {}
        }
      ]
    },
    {
      "metadata": {
        "trusted": true
      },
      "cell_type": "code",
      "source": "# The linear regression is not a good model \n# Try an exponetial decay fit, instead\n\nimport numpy as np\nimport scipy as sp\nimport pylab as pl\nfrom scipy.optimize.minpack import curve_fit\n\nx = newtable['fare']\ny = newtable['survived']\n\nguess_a, guess_b, guess_c = 400, -0.005, 600\nguess = [guess_a, guess_b, guess_c]\n\nexp_decay = lambda x, A, t, y0: A * np.exp(x * t) + y0\n\nparams, cov = curve_fit(exp_decay, x, y, p0=guess)\n\nA, t, y0 = params\n\nprint (\"Amplitude = \", A)\nprint (\"Decay rate = \", t)\nprint (\"Baseline = \", y0)\n\npl.clf()\nbest_fit = lambda x: A * np.exp(t * x) + y0\n\npl.plot(x, y, 'b.')\npl.plot(x, best_fit(x), 'r-')\n#plt.axis([0, 520, 0, 350])\npl.show()",
      "execution_count": 47,
      "outputs": [
        {
          "output_type": "stream",
          "text": "Amplitude =  494.69068183341335\nDecay rate =  -0.02475756835166987\nBaseline =  5.310044734121063\n",
          "name": "stdout"
        },
        {
          "output_type": "display_data",
          "data": {
            "image/png": "[encoded data removed]",
            "text/plain": "<matplotlib.figure.Figure at 0x7f03561d9748>"
          },
          "metadata": {}
        }
      ]
    }
  ],
  "metadata": {
    "kernelspec": {
      "name": "python36",
      "display_name": "Python 3.6",
      "language": "python"
    },
    "language_info": {
      "mimetype": "text/x-python",
      "nbconvert_exporter": "python",
      "name": "python",
      "pygments_lexer": "ipython3",
      "version": "3.6.6",
      "file_extension": ".py",
      "codemirror_mode": {
        "version": 3,
        "name": "ipython"
      }
    }
  },
  "nbformat": 4,
  "nbformat_minor": 1
}